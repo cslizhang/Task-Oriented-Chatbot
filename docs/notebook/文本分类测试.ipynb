{
 "cells": [
  {
   "cell_type": "code",
   "execution_count": 1,
   "metadata": {},
   "outputs": [
    {
     "name": "stderr",
     "output_type": "stream",
     "text": [
      "Building prefix dict from the default dictionary ...\n",
      "Loading model from cache /var/folders/2z/rt0g_nnn0lb9hrkkzbt5ntr00000gn/T/jieba.cache\n",
      "Loading model cost 0.823 seconds.\n",
      "Prefix dict has been built succesfully.\n"
     ]
    }
   ],
   "source": [
    "import sys\n",
    "sys.path.append(\"/Users/zhouzhirui/project/Task-Oriented-Chatbot/\")\n",
    "from pathlib import Path\n",
    "import re\n",
    "import gc\n",
    "\n",
    "import numpy as np\n",
    "import torch\n",
    "\n",
    "from chatbot.models.intent.fast_text import FastText\n",
    "from chatbot.models.intent.text_cnn import TextCNN\n",
    "from chatbot.cparse.vocabulary import Vocabulary\n",
    "from chatbot.cparse.label import Label\n",
    "from chatbot.models.intent.pytorch import predict, evaluate, batch_generator, train\n",
    "from chatbot.cparse.text import read_fasttext_file\n",
    "from chatbot.evaluate.plot import plot_confusion_matrix"
   ]
  },
  {
   "cell_type": "code",
   "execution_count": 2,
   "metadata": {},
   "outputs": [],
   "source": [
    "def precessing(s):\n",
    "    s = re.sub(\"[.,!?;\\\\/]\", \" \", s)\n",
    "    return s.lower()\n",
    "x, y = read_fasttext_file(\"/Users/zhouzhirui/project/Task-Oriented-Chatbot/corpus/intent/fastText/corpus\", precessing)\n",
    "train_x, train_y = x[:8000], y[:8000]\n",
    "test_x, test_y = x[8000:], y[8000:]\n",
    "# del x, y; gc.collect()"
   ]
  },
  {
   "cell_type": "code",
   "execution_count": 3,
   "metadata": {},
   "outputs": [],
   "source": [
    "vocab = Vocabulary()\n",
    "vocab.update(train_x)\n",
    "label = Label()\n",
    "label.update(train_y)\n",
    "\n",
    "train_x = np.array(vocab.transform(train_x, max_length=50))\n",
    "test_x = np.array(vocab.transform(test_x, max_length=50))\n",
    "train_y = np.array(label.transform(train_y))\n",
    "test_y = np.array(label.transform(test_y))"
   ]
  },
  {
   "cell_type": "code",
   "execution_count": 4,
   "metadata": {},
   "outputs": [
    {
     "name": "stdout",
     "output_type": "stream",
     "text": [
      "FastText(\n",
      "  (embed): Embedding(38326, 60)\n",
      "  (fc): Linear(in_features=60, out_features=2, bias=True)\n",
      ")\n"
     ]
    }
   ],
   "source": [
    "param_fasttext = {\n",
    "        \"vocab_size\": len(vocab),\n",
    "        \"embed_dim\": 60,\n",
    "        \"class_num\": len(label),\n",
    "    }\n",
    "\n",
    "fasttext = FastText(param_fasttext)\n",
    "print(fasttext)"
   ]
  },
  {
   "cell_type": "code",
   "execution_count": 5,
   "metadata": {},
   "outputs": [
    {
     "name": "stderr",
     "output_type": "stream",
     "text": [
      "2018-05-22 23:28:38,511 - INFO - Intent Model Train - Epoch:  0, Step:      0, train loss: 0.701742, eval loss: 0.697977, acc: 0.496500.\n",
      "2018-05-22 23:28:40,518 - INFO - Intent Model Train - Epoch:  0, Step:    100, train loss: 0.436532, eval loss: 0.471845, acc: 0.774000.\n",
      "2018-05-22 23:28:41,019 - INFO - Intent Model Train - Epoch:  1, Step:      0, train loss: 0.357200, eval loss: 0.449944, acc: 0.793000.\n",
      "2018-05-22 23:28:43,000 - INFO - Intent Model Train - Epoch:  1, Step:    100, train loss: 0.283562, eval loss: 0.443734, acc: 0.795000.\n",
      "2018-05-22 23:28:43,505 - INFO - Intent Model Train - Epoch:  2, Step:      0, train loss: 0.230743, eval loss: 0.492066, acc: 0.778000.\n",
      "2018-05-22 23:28:45,469 - INFO - Intent Model Train - Epoch:  2, Step:    100, train loss: 0.183801, eval loss: 0.515173, acc: 0.787000.\n",
      "2018-05-22 23:28:45,968 - INFO - Intent Model Train - Epoch:  3, Step:      0, train loss: 0.080466, eval loss: 0.500031, acc: 0.795500.\n",
      "2018-05-22 23:28:47,960 - INFO - Intent Model Train - Epoch:  3, Step:    100, train loss: 0.042054, eval loss: 0.562850, acc: 0.790000.\n",
      "2018-05-22 23:28:48,468 - INFO - Intent Model Train - Epoch:  4, Step:      0, train loss: 0.030962, eval loss: 0.613864, acc: 0.781000.\n",
      "2018-05-22 23:28:50,513 - INFO - Intent Model Train - Epoch:  4, Step:    100, train loss: 0.028587, eval loss: 0.654639, acc: 0.781500.\n",
      "2018-05-22 23:28:51,022 - INFO - Intent Model Train - Epoch:  5, Step:      0, train loss: 0.018045, eval loss: 0.669250, acc: 0.775000.\n",
      "2018-05-22 23:28:53,145 - INFO - Intent Model Train - Epoch:  5, Step:    100, train loss: 0.013605, eval loss: 0.726185, acc: 0.769500.\n",
      "2018-05-22 23:28:53,682 - INFO - Intent Model Train - Epoch:  6, Step:      0, train loss: 0.007002, eval loss: 0.744817, acc: 0.775000.\n",
      "2018-05-22 23:28:55,749 - INFO - Intent Model Train - Epoch:  6, Step:    100, train loss: 0.006119, eval loss: 0.779962, acc: 0.770500.\n",
      "2018-05-22 23:28:56,298 - INFO - Intent Model Train - Epoch:  7, Step:      0, train loss: 0.004519, eval loss: 0.801384, acc: 0.767500.\n",
      "2018-05-22 23:28:58,325 - INFO - Intent Model Train - Epoch:  7, Step:    100, train loss: 0.003436, eval loss: 0.818031, acc: 0.770000.\n",
      "2018-05-22 23:28:58,837 - INFO - Intent Model Train - Epoch:  8, Step:      0, train loss: 0.003817, eval loss: 0.837294, acc: 0.768500.\n",
      "2018-05-22 23:29:00,902 - INFO - Intent Model Train - Epoch:  8, Step:    100, train loss: 0.003820, eval loss: 0.830145, acc: 0.769000.\n",
      "2018-05-22 23:29:01,430 - INFO - Intent Model Train - Epoch:  9, Step:      0, train loss: 0.003770, eval loss: 0.900073, acc: 0.766000.\n",
      "2018-05-22 23:29:03,487 - INFO - Intent Model Train - Epoch:  9, Step:    100, train loss: 0.002510, eval loss: 0.923279, acc: 0.768500.\n"
     ]
    }
   ],
   "source": [
    "train(fasttext, train_x, train_y, test_x, test_y, lr=0.01, epochs=10, init_epochs=0, batch_size=64)"
   ]
  },
  {
   "cell_type": "code",
   "execution_count": 28,
   "metadata": {},
   "outputs": [
    {
     "data": {
      "text/plain": [
       "TextCNN(\n",
       "  (embed): Embedding(28178, 60, padding_idx=1)\n",
       "  (conv11): Conv2d(1, 16, kernel_size=(3, 60), stride=(1, 1))\n",
       "  (conv12): Conv2d(1, 16, kernel_size=(4, 60), stride=(1, 1))\n",
       "  (conv13): Conv2d(1, 16, kernel_size=(5, 60), stride=(1, 1))\n",
       "  (dropout): Dropout(p=0.5)\n",
       "  (fc1): Linear(in_features=48, out_features=2, bias=True)\n",
       ")"
      ]
     },
     "execution_count": 28,
     "metadata": {},
     "output_type": "execute_result"
    }
   ],
   "source": [
    "textcnn_param = {\n",
    "        \"vocab_size\": len(vocab),\n",
    "        \"embed_dim\": 60,\n",
    "        \"class_num\": len(label),\n",
    "        \"kernel_num\": 16,\n",
    "        \"kernel_size\": [3, 4, 5],\n",
    "        \"dropout\": 0.5,\n",
    "    }\n",
    "\n",
    "textcnn = TextCNN(textcnn_param)\n",
    "textcnn"
   ]
  },
  {
   "cell_type": "code",
   "execution_count": 29,
   "metadata": {},
   "outputs": [
    {
     "name": "stderr",
     "output_type": "stream",
     "text": [
      "2018-05-22 23:22:31,196 - INFO - Intent Model Train - Epoch:  0, Step:      0, train loss: 1.049895, eval loss: 0.747919, acc: 0.480800.\n",
      "2018-05-22 23:22:37,085 - INFO - Intent Model Train - Epoch:  1, Step:      0, train loss: 0.361966, eval loss: 0.537353, acc: 0.720400.\n",
      "2018-05-22 23:22:42,572 - INFO - Intent Model Train - Epoch:  2, Step:      0, train loss: 0.078514, eval loss: 0.550863, acc: 0.746000.\n",
      "2018-05-22 23:22:48,733 - INFO - Intent Model Train - Epoch:  3, Step:      0, train loss: 0.023088, eval loss: 0.688152, acc: 0.747800.\n",
      "2018-05-22 23:22:55,059 - INFO - Intent Model Train - Epoch:  4, Step:      0, train loss: 0.001630, eval loss: 0.699393, acc: 0.763400.\n",
      "2018-05-22 23:23:00,930 - INFO - Intent Model Train - Epoch:  5, Step:      0, train loss: 0.001135, eval loss: 0.715236, acc: 0.768600.\n",
      "2018-05-22 23:23:07,312 - INFO - Intent Model Train - Epoch:  6, Step:      0, train loss: 0.001021, eval loss: 0.739715, acc: 0.765400.\n",
      "2018-05-22 23:23:13,092 - INFO - Intent Model Train - Epoch:  7, Step:      0, train loss: 0.000629, eval loss: 0.752125, acc: 0.766200.\n",
      "2018-05-22 23:23:18,676 - INFO - Intent Model Train - Epoch:  8, Step:      0, train loss: 0.000408, eval loss: 0.760426, acc: 0.769400.\n",
      "2018-05-22 23:23:24,134 - INFO - Intent Model Train - Epoch:  9, Step:      0, train loss: 0.000454, eval loss: 0.772850, acc: 0.768600.\n"
     ]
    }
   ],
   "source": [
    "train(textcnn, train_x, train_y, test_x, test_y, 0.01, 10, 0, 64)"
   ]
  },
  {
   "cell_type": "code",
   "execution_count": 15,
   "metadata": {},
   "outputs": [
    {
     "data": {
      "text/plain": [
       "tensor([[ 7.4938e-01,  2.5062e-01],\n",
       "        [ 9.2647e-01,  7.3526e-02],\n",
       "        [ 4.4340e-02,  9.5566e-01],\n",
       "        ...,\n",
       "        [ 3.1855e-05,  9.9997e-01],\n",
       "        [ 6.1826e-05,  9.9994e-01],\n",
       "        [ 9.9653e-01,  3.4671e-03]])"
      ]
     },
     "execution_count": 15,
     "metadata": {},
     "output_type": "execute_result"
    }
   ],
   "source": [
    "np.exp(fasttext(torch.tensor(test_x)).data)"
   ]
  },
  {
   "cell_type": "markdown",
   "metadata": {},
   "source": [
    "| "
   ]
  },
  {
   "cell_type": "code",
   "execution_count": null,
   "metadata": {
    "collapsed": true
   },
   "outputs": [],
   "source": []
  }
 ],
 "metadata": {
  "kernelspec": {
   "display_name": "Python 3",
   "language": "python",
   "name": "python3"
  },
  "language_info": {
   "codemirror_mode": {
    "name": "ipython",
    "version": 3
   },
   "file_extension": ".py",
   "mimetype": "text/x-python",
   "name": "python",
   "nbconvert_exporter": "python",
   "pygments_lexer": "ipython3",
   "version": "3.6.1"
  }
 },
 "nbformat": 4,
 "nbformat_minor": 2
}
