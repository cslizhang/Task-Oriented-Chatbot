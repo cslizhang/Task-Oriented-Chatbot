{
 "cells": [
  {
   "cell_type": "code",
   "execution_count": 1,
   "metadata": {},
   "outputs": [
    {
     "name": "stderr",
     "output_type": "stream",
     "text": [
      "Building prefix dict from the default dictionary ...\n",
      "Loading model from cache /var/folders/2z/rt0g_nnn0lb9hrkkzbt5ntr00000gn/T/jieba.cache\n",
      "Loading model cost 0.784 seconds.\n",
      "Prefix dict has been built succesfully.\n"
     ]
    }
   ],
   "source": [
    "import sys\n",
    "sys.path.append(\"/Users/zhouzhirui/project/Task-Oriented-Chatbot/\")\n",
    "from pathlib import Path\n",
    "import re\n",
    "import gc\n",
    "\n",
    "import numpy as np\n",
    "import torch\n",
    "\n",
    "from chatbot.models.intent.fast_text import FastText\n",
    "from chatbot.models.intent.text_cnn import TextCNN\n",
    "from chatbot.models.intent.text_rnn import TextRNN\n",
    "from chatbot.models.intent.lstm_attention import LSTMAttention\n",
    "from chatbot.cparse.vocabulary import Vocabulary\n",
    "from chatbot.cparse.label import Label\n",
    "from chatbot.models.intent.pytorch import predict, evaluate, batch_generator, train\n",
    "from chatbot.cparse.text import read_fasttext_file\n",
    "from chatbot.evaluate.plot import plot_confusion_matrix"
   ]
  },
  {
   "cell_type": "code",
   "execution_count": 2,
   "metadata": {
    "collapsed": true
   },
   "outputs": [],
   "source": [
    "def precessing(s):\n",
    "    s = re.sub(\"[.,!?;\\\\/]\", \" \", s)\n",
    "    return s.lower()\n",
    "x, y = read_fasttext_file(\"/Users/zhouzhirui/project/Task-Oriented-Chatbot/corpus/intent/fastText/corpus\", precessing)\n",
    "train_x, train_y = x[:8000], y[:8000]\n",
    "test_x, test_y = x[8000:], y[8000:]\n",
    "# del x, y; gc.collect()"
   ]
  },
  {
   "cell_type": "code",
   "execution_count": 3,
   "metadata": {
    "collapsed": true
   },
   "outputs": [],
   "source": [
    "vocab = Vocabulary()\n",
    "vocab.update(train_x)\n",
    "label = Label()\n",
    "label.update(train_y)\n",
    "\n",
    "train_x = np.array(vocab.transform(train_x, max_length=50))\n",
    "test_x = np.array(vocab.transform(test_x, max_length=50))\n",
    "train_y = np.array(label.transform(train_y))\n",
    "test_y = np.array(label.transform(test_y))"
   ]
  },
  {
   "cell_type": "code",
   "execution_count": 4,
   "metadata": {},
   "outputs": [
    {
     "name": "stdout",
     "output_type": "stream",
     "text": [
      "FastText(\n",
      "  (embed): Embedding(38326, 60)\n",
      "  (fc): Linear(in_features=60, out_features=2, bias=True)\n",
      ")\n"
     ]
    }
   ],
   "source": [
    "param_fasttext = {\n",
    "        \"vocab_size\": len(vocab),\n",
    "        \"embed_dim\": 60,\n",
    "        \"class_num\": len(label),\n",
    "    }\n",
    "\n",
    "fasttext = FastText(param_fasttext)\n",
    "print(fasttext)"
   ]
  },
  {
   "cell_type": "code",
   "execution_count": 5,
   "metadata": {},
   "outputs": [
    {
     "name": "stderr",
     "output_type": "stream",
     "text": [
      "2018-05-26 14:59:40,259 - INFO - Intent Model Train - Epoch:  0, Step:      0, train loss: 0.692240, eval loss: 0.691872, acc: 0.516500.\n",
      "2018-05-26 14:59:42,320 - INFO - Intent Model Train - Epoch:  0, Step:    100, train loss: 0.465118, eval loss: 0.457680, acc: 0.787000.\n",
      "2018-05-26 14:59:42,857 - INFO - Intent Model Train - Epoch:  1, Step:      0, train loss: 0.296673, eval loss: 0.430793, acc: 0.795500.\n",
      "2018-05-26 14:59:44,960 - INFO - Intent Model Train - Epoch:  1, Step:    100, train loss: 0.225417, eval loss: 0.410238, acc: 0.815000.\n",
      "2018-05-26 14:59:45,511 - INFO - Intent Model Train - Epoch:  2, Step:      0, train loss: 0.169546, eval loss: 0.422899, acc: 0.805500.\n",
      "2018-05-26 14:59:47,676 - INFO - Intent Model Train - Epoch:  2, Step:    100, train loss: 0.114643, eval loss: 0.453374, acc: 0.802500.\n",
      "2018-05-26 14:59:48,208 - INFO - Intent Model Train - Epoch:  3, Step:      0, train loss: 0.045436, eval loss: 0.461402, acc: 0.804500.\n",
      "2018-05-26 14:59:50,518 - INFO - Intent Model Train - Epoch:  3, Step:    100, train loss: 0.158026, eval loss: 0.519425, acc: 0.800500.\n",
      "2018-05-26 14:59:51,034 - INFO - Intent Model Train - Epoch:  4, Step:      0, train loss: 0.034521, eval loss: 0.531575, acc: 0.795500.\n",
      "2018-05-26 14:59:53,079 - INFO - Intent Model Train - Epoch:  4, Step:    100, train loss: 0.021453, eval loss: 0.586275, acc: 0.791000.\n",
      "2018-05-26 14:59:53,598 - INFO - Intent Model Train - Epoch:  5, Step:      0, train loss: 0.017846, eval loss: 0.600448, acc: 0.784500.\n",
      "2018-05-26 14:59:55,665 - INFO - Intent Model Train - Epoch:  5, Step:    100, train loss: 0.019130, eval loss: 0.641147, acc: 0.781500.\n",
      "2018-05-26 14:59:56,193 - INFO - Intent Model Train - Epoch:  6, Step:      0, train loss: 0.012963, eval loss: 0.642351, acc: 0.785500.\n",
      "2018-05-26 14:59:58,261 - INFO - Intent Model Train - Epoch:  6, Step:    100, train loss: 0.012553, eval loss: 0.686306, acc: 0.786000.\n",
      "2018-05-26 14:59:58,815 - INFO - Intent Model Train - Epoch:  7, Step:      0, train loss: 0.006548, eval loss: 0.689302, acc: 0.784000.\n",
      "2018-05-26 15:00:00,876 - INFO - Intent Model Train - Epoch:  7, Step:    100, train loss: 0.006124, eval loss: 0.723388, acc: 0.781500.\n",
      "2018-05-26 15:00:01,419 - INFO - Intent Model Train - Epoch:  8, Step:      0, train loss: 0.002568, eval loss: 0.729326, acc: 0.782000.\n",
      "2018-05-26 15:00:03,478 - INFO - Intent Model Train - Epoch:  8, Step:    100, train loss: 0.003727, eval loss: 0.756212, acc: 0.780000.\n",
      "2018-05-26 15:00:04,025 - INFO - Intent Model Train - Epoch:  9, Step:      0, train loss: 0.002667, eval loss: 0.766305, acc: 0.780000.\n",
      "2018-05-26 15:00:06,274 - INFO - Intent Model Train - Epoch:  9, Step:    100, train loss: 0.001239, eval loss: 0.782924, acc: 0.782000.\n"
     ]
    }
   ],
   "source": [
    "train(fasttext, train_x, train_y, test_x, test_y, lr=0.01, epochs=10, init_epochs=0, batch_size=64)"
   ]
  },
  {
   "cell_type": "code",
   "execution_count": 22,
   "metadata": {},
   "outputs": [
    {
     "data": {
      "text/plain": [
       "TextCNN(\n",
       "  (embed): Embedding(38326, 60, padding_idx=1)\n",
       "  (conv11): Conv2d(1, 16, kernel_size=(3, 60), stride=(1, 1))\n",
       "  (conv12): Conv2d(1, 16, kernel_size=(4, 60), stride=(1, 1))\n",
       "  (conv13): Conv2d(1, 16, kernel_size=(5, 60), stride=(1, 1))\n",
       "  (dropout): Dropout(p=0.2)\n",
       "  (fc1): Linear(in_features=48, out_features=2, bias=True)\n",
       ")"
      ]
     },
     "execution_count": 22,
     "metadata": {},
     "output_type": "execute_result"
    }
   ],
   "source": [
    "textcnn_param = {\n",
    "        \"vocab_size\": len(vocab),\n",
    "        \"embed_dim\": 60,\n",
    "        \"class_num\": len(label),\n",
    "        \"kernel_num\": 16,\n",
    "        \"kernel_size\": [3, 4, 5],\n",
    "        \"dropout\": 0.2,\n",
    "    }\n",
    "\n",
    "textcnn = TextCNN(textcnn_param)\n",
    "textcnn"
   ]
  },
  {
   "cell_type": "code",
   "execution_count": 23,
   "metadata": {},
   "outputs": [
    {
     "name": "stderr",
     "output_type": "stream",
     "text": [
      "2018-05-26 15:13:27,065 - INFO - Intent Model Train - Epoch:  0, Step:      0, train loss: 0.684936, eval loss: 0.711179, acc: 0.502000.\n",
      "2018-05-26 15:13:31,245 - INFO - Intent Model Train - Epoch:  0, Step:    100, train loss: 0.512509, eval loss: 0.667916, acc: 0.594500.\n",
      "2018-05-26 15:13:35,354 - INFO - Intent Model Train - Epoch:  0, Step:    200, train loss: 0.475128, eval loss: 0.512748, acc: 0.745000.\n",
      "2018-05-26 15:13:37,714 - INFO - Intent Model Train - Epoch:  1, Step:      0, train loss: 0.233159, eval loss: 0.744974, acc: 0.636000.\n",
      "2018-05-26 15:13:42,074 - INFO - Intent Model Train - Epoch:  1, Step:    100, train loss: 0.353971, eval loss: 0.561976, acc: 0.751500.\n",
      "2018-05-26 15:13:46,189 - INFO - Intent Model Train - Epoch:  1, Step:    200, train loss: 0.297483, eval loss: 0.528387, acc: 0.764000.\n",
      "2018-05-26 15:13:48,698 - INFO - Intent Model Train - Epoch:  2, Step:      0, train loss: 0.232510, eval loss: 0.506792, acc: 0.767500.\n",
      "2018-05-26 15:13:55,682 - INFO - Intent Model Train - Epoch:  3, Step:      0, train loss: 0.111375, eval loss: 0.569342, acc: 0.788500.\n",
      "2018-05-26 15:14:02,654 - INFO - Intent Model Train - Epoch:  4, Step:      0, train loss: 0.041326, eval loss: 0.620574, acc: 0.785500.\n",
      "2018-05-26 15:14:09,498 - INFO - Intent Model Train - Epoch:  5, Step:      0, train loss: 0.046822, eval loss: 0.699416, acc: 0.780000.\n"
     ]
    }
   ],
   "source": [
    "train(textcnn, train_x, train_y, test_x, test_y, 0.01, 1, 0, 32)\n",
    "train(textcnn, train_x, train_y, test_x, test_y, 0.01, 2, 1, 32)\n",
    "train(textcnn, train_x, train_y, test_x, test_y, 0.003, 6, 2, 128)"
   ]
  },
  {
   "cell_type": "code",
   "execution_count": 29,
   "metadata": {},
   "outputs": [
    {
     "data": {
      "text/plain": [
       "TextRNN(\n",
       "  (embed): Embedding(38326, 60, padding_idx=0)\n",
       "  (rnn): LSTM(60, 30, batch_first=True)\n",
       "  (dropout): Dropout(p=0.2)\n",
       "  (fc): Linear(in_features=30, out_features=2, bias=True)\n",
       ")"
      ]
     },
     "execution_count": 29,
     "metadata": {},
     "output_type": "execute_result"
    }
   ],
   "source": [
    "text_rnn_param = {\n",
    "    \"vocab_size\": len(vocab),\n",
    "    \"embed_dim\": 60,\n",
    "    \"class_num\": len(label),\n",
    "    \"rnn_dim\":30,\n",
    "    \"dropout\": 0.2,\n",
    "}\n",
    "\n",
    "text_rnn = TextRNN(text_rnn_param)\n",
    "text_rnn"
   ]
  },
  {
   "cell_type": "code",
   "execution_count": 30,
   "metadata": {
    "scrolled": false
   },
   "outputs": [
    {
     "name": "stderr",
     "output_type": "stream",
     "text": [
      "2018-05-26 15:29:46,862 - INFO - Intent Model Train - Epoch:  0, Step:      0, train loss: 0.725736, eval loss: 0.696585, acc: 0.481500.\n",
      "2018-05-26 15:29:51,502 - INFO - Intent Model Train - Epoch:  0, Step:    100, train loss: 0.679087, eval loss: 0.683178, acc: 0.556000.\n",
      "2018-05-26 15:29:55,775 - INFO - Intent Model Train - Epoch:  0, Step:    200, train loss: 0.633901, eval loss: 0.695481, acc: 0.607000.\n",
      "2018-05-26 15:29:58,121 - INFO - Intent Model Train - Epoch:  1, Step:      0, train loss: 0.506105, eval loss: 0.583320, acc: 0.708500.\n",
      "2018-05-26 15:30:02,523 - INFO - Intent Model Train - Epoch:  1, Step:    100, train loss: 0.370998, eval loss: 0.527942, acc: 0.752000.\n",
      "2018-05-26 15:30:06,731 - INFO - Intent Model Train - Epoch:  1, Step:    200, train loss: 0.295909, eval loss: 0.513489, acc: 0.762000.\n",
      "2018-05-26 15:30:08,949 - INFO - Intent Model Train - Epoch:  2, Step:      0, train loss: 0.306126, eval loss: 0.506561, acc: 0.780500.\n",
      "2018-05-26 15:30:13,053 - INFO - Intent Model Train - Epoch:  2, Step:    100, train loss: 0.162682, eval loss: 0.597471, acc: 0.780000.\n",
      "2018-05-26 15:30:17,292 - INFO - Intent Model Train - Epoch:  2, Step:    200, train loss: 0.241596, eval loss: 0.504104, acc: 0.789500.\n",
      "2018-05-26 15:30:19,453 - INFO - Intent Model Train - Epoch:  3, Step:      0, train loss: 0.220641, eval loss: 0.549334, acc: 0.784000.\n",
      "2018-05-26 15:30:24,975 - INFO - Intent Model Train - Epoch:  3, Step:    100, train loss: 0.191511, eval loss: 0.593104, acc: 0.790000.\n",
      "2018-05-26 15:30:26,677 - INFO - Intent Model Train - Epoch:  4, Step:      0, train loss: 0.209400, eval loss: 0.595621, acc: 0.793500.\n",
      "2018-05-26 15:30:32,475 - INFO - Intent Model Train - Epoch:  4, Step:    100, train loss: 0.100669, eval loss: 0.629547, acc: 0.793000.\n",
      "2018-05-26 15:30:34,066 - INFO - Intent Model Train - Epoch:  5, Step:      0, train loss: 0.088401, eval loss: 0.621223, acc: 0.793500.\n",
      "2018-05-26 15:30:40,452 - INFO - Intent Model Train - Epoch:  5, Step:    100, train loss: 0.089424, eval loss: 0.656021, acc: 0.793000.\n"
     ]
    }
   ],
   "source": [
    "train(text_rnn, train_x, train_y, test_x, test_y, 0.01, 3, 0, 32)\n",
    "train(text_rnn, train_x, train_y, test_x, test_y, 0.003, 6, 3, 64)"
   ]
  },
  {
   "cell_type": "code",
   "execution_count": 4,
   "metadata": {},
   "outputs": [
    {
     "data": {
      "text/plain": [
       "LSTMAttention(\n",
       "  (word_embeddings): Embedding(38326, 60)\n",
       "  (dropout): Dropout(p=0.2)\n",
       "  (bilstm): LSTM(60, 30, batch_first=True)\n",
       "  (hidden2label): Linear(in_features=30, out_features=2, bias=True)\n",
       ")"
      ]
     },
     "execution_count": 4,
     "metadata": {},
     "output_type": "execute_result"
    }
   ],
   "source": [
    "text_rnn_param = {\n",
    "    \"vocab_size\": len(vocab),\n",
    "    \"embed_dim\": 60,\n",
    "    \"class_num\": len(label),\n",
    "    \"rnn_dim\":30,\n",
    "    \"dropout\": 0.2,\n",
    "}\n",
    "\n",
    "lstm_att = LSTMAttention(text_rnn_param)\n",
    "lstm_att"
   ]
  },
  {
   "cell_type": "code",
   "execution_count": 5,
   "metadata": {},
   "outputs": [
    {
     "name": "stderr",
     "output_type": "stream",
     "text": [
      "2018-05-27 14:08:11,307 - INFO - Intent Model Train - Epoch:  0, Step:      0, train loss: 0.680453, eval loss: 0.705631, acc: 0.500000.\n",
      "2018-05-27 14:08:14,578 - INFO - Intent Model Train - Epoch:  0, Step:    100, train loss: 0.486792, eval loss: 0.645866, acc: 0.634500.\n",
      "2018-05-27 14:08:17,752 - INFO - Intent Model Train - Epoch:  0, Step:    200, train loss: 0.529697, eval loss: 0.520597, acc: 0.771500.\n",
      "2018-05-27 14:08:21,049 - INFO - Intent Model Train - Epoch:  0, Step:    300, train loss: 0.290883, eval loss: 0.561221, acc: 0.769000.\n",
      "2018-05-27 14:08:24,280 - INFO - Intent Model Train - Epoch:  0, Step:    400, train loss: 0.374046, eval loss: 0.474592, acc: 0.781500.\n",
      "2018-05-27 14:08:27,982 - INFO - Intent Model Train - Epoch:  1, Step:      0, train loss: 0.149938, eval loss: 0.454042, acc: 0.799000.\n",
      "2018-05-27 14:08:31,581 - INFO - Intent Model Train - Epoch:  1, Step:    100, train loss: 0.241183, eval loss: 0.496505, acc: 0.802000.\n",
      "2018-05-27 14:08:34,887 - INFO - Intent Model Train - Epoch:  1, Step:    200, train loss: 0.177874, eval loss: 0.499376, acc: 0.799000.\n",
      "2018-05-27 14:08:38,991 - INFO - Intent Model Train - Epoch:  1, Step:    300, train loss: 0.178282, eval loss: 0.513626, acc: 0.796500.\n",
      "2018-05-27 14:08:43,097 - INFO - Intent Model Train - Epoch:  1, Step:    400, train loss: 0.136199, eval loss: 0.533183, acc: 0.802000.\n",
      "2018-05-27 14:08:46,703 - INFO - Intent Model Train - Epoch:  2, Step:      0, train loss: 0.075032, eval loss: 0.477404, acc: 0.793000.\n",
      "2018-05-27 14:08:50,581 - INFO - Intent Model Train - Epoch:  2, Step:    100, train loss: 0.040524, eval loss: 0.551948, acc: 0.798500.\n",
      "2018-05-27 14:08:54,367 - INFO - Intent Model Train - Epoch:  2, Step:    200, train loss: 0.061095, eval loss: 0.599382, acc: 0.810000.\n"
     ]
    }
   ],
   "source": [
    "train(lstm_att, train_x, train_y, test_x, test_y, 0.01, 2, 0, 16)\n",
    "train(lstm_att, train_x, train_y, test_x, test_y, 0.003, 3, 2, 32)\n"
   ]
  },
  {
   "cell_type": "code",
   "execution_count": 30,
   "metadata": {},
   "outputs": [
    {
     "data": {
      "text/plain": [
       "tensor([ 9.8122e-06,  9.1842e-04,  3.7952e-04,  1.5840e-03,  2.8121e-03,\n",
       "         1.4148e-04,  1.1294e-03,  2.4856e-03,  2.2396e-04,  8.3881e-03,\n",
       "         1.2418e-03,  3.6332e-04,  7.4461e-05,  7.4912e-05,  6.6036e-05,\n",
       "         2.5978e-04,  6.7352e-05,  6.8104e-05,  5.3283e-03,  5.5602e-02,\n",
       "         1.4546e-02,  1.5830e-03,  4.0959e-03,  7.4582e-04,  2.2448e-03,\n",
       "         2.6526e-03,  7.8487e-04,  2.9653e-03,  1.5699e-05,  3.0496e-05,\n",
       "         1.3183e-04,  3.9311e-04,  8.8378e-04,  6.6267e-04,  2.8145e-04,\n",
       "         3.2725e-04,  1.1017e-02,  9.7699e-04,  9.0897e-04,  3.0413e-04,\n",
       "         1.3258e-02,  1.0859e-02,  6.7338e-03,  4.7824e-03,  6.2882e-04,\n",
       "         4.4202e-02,  4.1129e-03,  5.2195e-02,  2.6186e-02,  7.1027e-01])"
      ]
     },
     "execution_count": 30,
     "metadata": {},
     "output_type": "execute_result"
    }
   ],
   "source": [
    "lstm_att.get_attention(torch.tensor(train_x[:2]))[1].squeeze()"
   ]
  },
  {
   "cell_type": "code",
   "execution_count": 26,
   "metadata": {},
   "outputs": [
    {
     "data": {
      "text/plain": [
       "\"the best soundtrack ever to anything : i'm reading a lot of reviews saying that this is the best 'game soundtrack' and i figured that i'd write a review to disagree a bit  this in my opinino is yasunori mitsuda's ultimate masterpiece  the music is timeless and i'm\""
      ]
     },
     "execution_count": 26,
     "metadata": {},
     "output_type": "execute_result"
    }
   ],
   "source": [
    "\" \".join(x[1][:50])"
   ]
  },
  {
   "cell_type": "code",
   "execution_count": 27,
   "metadata": {},
   "outputs": [
    {
     "data": {
      "text/plain": [
       "'__label__2'"
      ]
     },
     "execution_count": 27,
     "metadata": {},
     "output_type": "execute_result"
    }
   ],
   "source": [
    "y[1]"
   ]
  },
  {
   "cell_type": "code",
   "execution_count": null,
   "metadata": {
    "collapsed": true
   },
   "outputs": [],
   "source": []
  }
 ],
 "metadata": {
  "kernelspec": {
   "display_name": "Python 3",
   "language": "python",
   "name": "python3"
  },
  "language_info": {
   "codemirror_mode": {
    "name": "ipython",
    "version": 3
   },
   "file_extension": ".py",
   "mimetype": "text/x-python",
   "name": "python",
   "nbconvert_exporter": "python",
   "pygments_lexer": "ipython3",
   "version": "3.6.1"
  }
 },
 "nbformat": 4,
 "nbformat_minor": 2
}
