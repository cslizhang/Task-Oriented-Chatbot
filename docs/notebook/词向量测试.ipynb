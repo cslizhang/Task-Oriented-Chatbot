{
 "cells": [
  {
   "cell_type": "code",
   "execution_count": 1,
   "metadata": {
    "collapsed": true
   },
   "outputs": [],
   "source": [
    "import numpy as np\n",
    "import gensim"
   ]
  },
  {
   "cell_type": "code",
   "execution_count": 2,
   "metadata": {
    "collapsed": true
   },
   "outputs": [],
   "source": [
    "model = gensim.models.Word2Vec.load(\"/home/zhouzr/project/Task-Oriented-Chatbot/results/word2vec/word2vec.model\")"
   ]
  },
  {
   "cell_type": "code",
   "execution_count": 3,
   "metadata": {},
   "outputs": [
    {
     "data": {
      "text/plain": [
       "790284"
      ]
     },
     "execution_count": 3,
     "metadata": {},
     "output_type": "execute_result"
    }
   ],
   "source": [
    "len(model.wv.vocab)"
   ]
  },
  {
   "cell_type": "code",
   "execution_count": 4,
   "metadata": {},
   "outputs": [
    {
     "data": {
      "text/plain": [
       "[('南宋', 0.886999249458313),\n",
       " ('北宋', 0.8781706094741821),\n",
       " ('唐朝', 0.875409722328186),\n",
       " ('明朝', 0.8540297746658325),\n",
       " ('宋代', 0.8425979614257812),\n",
       " ('元朝', 0.8419358134269714),\n",
       " ('唐代', 0.8395484089851379),\n",
       " ('元代', 0.8133420944213867),\n",
       " ('明代', 0.7972697019577026),\n",
       " ('汉朝', 0.7953525185585022)]"
      ]
     },
     "execution_count": 4,
     "metadata": {},
     "output_type": "execute_result"
    }
   ],
   "source": [
    "model.wv.most_similar(\"宋朝\")"
   ]
  },
  {
   "cell_type": "code",
   "execution_count": 5,
   "metadata": {},
   "outputs": [
    {
     "data": {
      "text/plain": [
       "[('电网', 0.7798560857772827),\n",
       " ('燃气', 0.7655973434448242),\n",
       " ('电能', 0.7516762018203735),\n",
       " ('电力供应', 0.7473480105400085),\n",
       " ('电力系统', 0.7205382585525513),\n",
       " ('能源', 0.707219123840332),\n",
       " ('燃煤', 0.7063983678817749),\n",
       " ('天然气', 0.7044636011123657),\n",
       " ('输电', 0.7022285461425781),\n",
       " ('供电', 0.6986129283905029)]"
      ]
     },
     "execution_count": 5,
     "metadata": {},
     "output_type": "execute_result"
    }
   ],
   "source": [
    "model.wv.most_similar(\"电力\")"
   ]
  },
  {
   "cell_type": "code",
   "execution_count": 6,
   "metadata": {},
   "outputs": [
    {
     "data": {
      "text/plain": [
       "'电脑'"
      ]
     },
     "execution_count": 6,
     "metadata": {},
     "output_type": "execute_result"
    }
   ],
   "source": [
    "model.wv.doesnt_match(\"我 喜欢 电脑 吃饭\".split(\" \"))"
   ]
  },
  {
   "cell_type": "code",
   "execution_count": null,
   "metadata": {
    "collapsed": true
   },
   "outputs": [],
   "source": []
  }
 ],
 "metadata": {
  "kernelspec": {
   "display_name": "Python 3",
   "language": "python",
   "name": "python3"
  },
  "language_info": {
   "codemirror_mode": {
    "name": "ipython",
    "version": 3
   },
   "file_extension": ".py",
   "mimetype": "text/x-python",
   "name": "python",
   "nbconvert_exporter": "python",
   "pygments_lexer": "ipython3",
   "version": "3.6.3"
  }
 },
 "nbformat": 4,
 "nbformat_minor": 2
}
