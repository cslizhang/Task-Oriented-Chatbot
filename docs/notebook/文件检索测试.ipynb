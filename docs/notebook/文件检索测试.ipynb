{
 "cells": [
  {
   "cell_type": "code",
   "execution_count": 1,
   "metadata": {},
   "outputs": [
    {
     "name": "stderr",
     "output_type": "stream",
     "text": [
      "Building prefix dict from the default dictionary ...\n",
      "Loading model from cache /tmp/jieba.cache\n",
      "Loading model cost 0.482 seconds.\n",
      "Prefix dict has been built succesfully.\n"
     ]
    }
   ],
   "source": [
    "import sys\n",
    "sys.path.append(\"/home/zhouzr/project/Task-Oriented-Chatbot\")\n",
    "import pandas as pd\n",
    "import numpy as np\n",
    "from chatbot.models.word2vec import Word2vecExt\n",
    "from chatbot.preprocessing.text import cut\n",
    "\n",
    "import pysparnn.cluster_index as ci\n",
    "\n",
    "from sklearn.feature_extraction.text import TfidfVectorizer"
   ]
  },
  {
   "cell_type": "code",
   "execution_count": 2,
   "metadata": {},
   "outputs": [
    {
     "name": "stderr",
     "output_type": "stream",
     "text": [
      "2018-05-25 14:18:56,096 - INFO - Time Counter - load running 0.06 min\n"
     ]
    }
   ],
   "source": [
    "word2vec = Word2vecExt()\n",
    "word2vec.load(\"/home/zhouzr/project/Task-Oriented-Chatbot/results/word2vec/word2vec.model\")"
   ]
  },
  {
   "cell_type": "code",
   "execution_count": 120,
   "metadata": {
    "collapsed": true
   },
   "outputs": [],
   "source": [
    "policy = pd.read_csv(\"/home/zhouzr/project/Task-Oriented-Chatbot/corpus/policy_file_etl.csv\")\n",
    "policy[\"content\"] = policy.name + policy.department + policy.label"
   ]
  },
  {
   "cell_type": "code",
   "execution_count": 74,
   "metadata": {},
   "outputs": [],
   "source": [
    "policy[\"content\"] = policy.content.apply(cut).apply(lambda x: \" \".join(x))"
   ]
  },
  {
   "cell_type": "code",
   "execution_count": 76,
   "metadata": {},
   "outputs": [
    {
     "data": {
      "text/plain": [
       "TfidfVectorizer(analyzer='word', binary=False, decode_error='strict',\n",
       "        dtype=<class 'numpy.int64'>, encoding='utf-8', input='content',\n",
       "        lowercase=True, max_df=1.0, max_features=None, min_df=1,\n",
       "        ngram_range=(1, 1), norm='l2', preprocessor=None, smooth_idf=True,\n",
       "        stop_words=None, strip_accents=None, sublinear_tf=False,\n",
       "        token_pattern='(?u)\\\\b\\\\w\\\\w+\\\\b', tokenizer=None, use_idf=True,\n",
       "        vocabulary=None)"
      ]
     },
     "execution_count": 76,
     "metadata": {},
     "output_type": "execute_result"
    }
   ],
   "source": [
    "tfidf = TfidfVectorizer()\n",
    "tfidf.fit(policy.content)"
   ]
  },
  {
   "cell_type": "code",
   "execution_count": 84,
   "metadata": {
    "collapsed": true
   },
   "outputs": [],
   "source": [
    "cp = ci.MultiClusterIndex(content_tfidf, policy.name.tolist())"
   ]
  },
  {
   "cell_type": "code",
   "execution_count": 144,
   "metadata": {},
   "outputs": [],
   "source": [
    "def query(q, n=1):\n",
    "    q_tfidf = tfidf.transform([\" \".join(cut(q))]).toarray()\n",
    "    return cp.search(q_tfidf, k=n,return_distance=True,)"
   ]
  },
  {
   "cell_type": "code",
   "execution_count": 147,
   "metadata": {},
   "outputs": [
    {
     "data": {
      "text/plain": [
       "[[('0.814239922452', '《关于调整四川电网丰枯峰谷电价政策有关事项的通知》'),\n",
       "  ('0.840928044053', '《2018年四川电力交易指导意见》')]]"
      ]
     },
     "execution_count": 147,
     "metadata": {},
     "output_type": "execute_result"
    }
   ],
   "source": [
    "query(\"结算相关文档\", n=3)"
   ]
  },
  {
   "cell_type": "code",
   "execution_count": 142,
   "metadata": {},
   "outputs": [
    {
     "data": {
      "text/plain": [
       "[[('0.437583493608', '《关于开展2018年常规直接交易年度集中竞价交易的公告》'),\n",
       "  ('0.533048026501', '《关于申报2018年常规直接交易年度集中竞价交易电量需求的公告》'),\n",
       "  ('0.585385775952', '《2018年年度电力直接交易1号公告》')]]"
      ]
     },
     "execution_count": 142,
     "metadata": {},
     "output_type": "execute_result"
    }
   ],
   "source": [
    "query(\"四川直接交易，集中竞价的政策文件\", n=3)"
   ]
  },
  {
   "cell_type": "code",
   "execution_count": 148,
   "metadata": {},
   "outputs": [
    {
     "name": "stderr",
     "output_type": "stream",
     "text": [
      "/home/zhouzr/anaconda3/lib/python3.6/site-packages/pysparnn/matrix_distance.py:192: RuntimeWarning: divide by zero encountered in true_divide\n",
      "  magnitude = 1.0 / (a_root_sum_square * self.matrix_root_sum_square)\n"
     ]
    },
    {
     "data": {
      "text/plain": [
       "[[('1.0', '《关于2015年直购电试点工作有关事项的通知》'),\n",
       "  ('1.0', '《关于2018年直接交易年度双边交易电量合规校核结果的公告》'),\n",
       "  ('1.0', '《关于申报2018年常规直接交易年度集中竞价交易电量需求的公告》')]]"
      ]
     },
     "execution_count": 148,
     "metadata": {},
     "output_type": "execute_result"
    }
   ],
   "source": [
    "query(\"跨省跨区\", n=3)"
   ]
  },
  {
   "cell_type": "code",
   "execution_count": null,
   "metadata": {
    "collapsed": true
   },
   "outputs": [],
   "source": [
    "跨省跨区 现货市场 月度竞价 交易公告 交易结束公告 结算 供需比例 国网范围内的相邻省份 全国 北京"
   ]
  },
  {
   "cell_type": "code",
   "execution_count": 149,
   "metadata": {
    "collapsed": true
   },
   "outputs": [],
   "source": [
    "policy.to_csv(\"/home/zhouzr/project/Task-Oriented-Chatbot/corpus/policy_file.utf8.csv\", index=None, encoding=\"utf8\")"
   ]
  },
  {
   "cell_type": "code",
   "execution_count": 150,
   "metadata": {
    "collapsed": true
   },
   "outputs": [],
   "source": [
    "policy.to_csv(\"/home/zhouzr/project/Task-Oriented-Chatbot/corpus/policy_file.gbk.csv\", index=None, encoding=\"gbk\")"
   ]
  },
  {
   "cell_type": "code",
   "execution_count": null,
   "metadata": {
    "collapsed": true
   },
   "outputs": [],
   "source": []
  }
 ],
 "metadata": {
  "kernelspec": {
   "display_name": "Python 3",
   "language": "python",
   "name": "python3"
  },
  "language_info": {
   "codemirror_mode": {
    "name": "ipython",
    "version": 3
   },
   "file_extension": ".py",
   "mimetype": "text/x-python",
   "name": "python",
   "nbconvert_exporter": "python",
   "pygments_lexer": "ipython3",
   "version": "3.6.3"
  }
 },
 "nbformat": 4,
 "nbformat_minor": 2
}
